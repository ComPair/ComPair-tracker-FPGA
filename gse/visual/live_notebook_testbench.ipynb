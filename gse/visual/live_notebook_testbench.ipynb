{
 "cells": [
  {
   "cell_type": "code",
   "execution_count": null,
   "metadata": {},
   "outputs": [],
   "source": [
    "        \n",
    "from ipywidgets import interact\n",
    "import numpy as np\n",
    "from bokeh.layouts import row, column\n",
    "from bokeh.io import push_notebook, show, output_notebook\n",
    "from bokeh.plotting import figure\n",
    "from bokeh.models import ColumnDataSource, Range1d\n",
    "import time"
   ]
  },
  {
   "cell_type": "code",
   "execution_count": null,
   "metadata": {},
   "outputs": [],
   "source": [
    "import numpy as np\n",
    "t0 = time.time()"
   ]
  },
  {
   "cell_type": "code",
   "execution_count": null,
   "metadata": {},
   "outputs": [],
   "source": [
    "output_notebook()"
   ]
  },
  {
   "cell_type": "code",
   "execution_count": null,
   "metadata": {},
   "outputs": [],
   "source": [
    "p = figure(title='ASIC_<x>', tools='', \n",
    "       plot_height=350, plot_width=800,\n",
    "       background_fill_color=\"#fafafa\", )\n",
    "p.xaxis.axis_label = \"channel\"\n",
    "p.yaxis.axis_label = \"adc counts (LSB)\"\n",
    "p.y_range = Range1d(0, 1050)\n",
    "\n",
    "n_ch = 192\n",
    "channels = np.array(range(n_ch))\n",
    "\n",
    "data_dict = {} \n",
    "data_dict['pedestals'] = 250 + np.random.normal(scale=5, size=n_ch)\n",
    "data_dict['channels'] = channels"
   ]
  },
  {
   "cell_type": "code",
   "execution_count": null,
   "metadata": {},
   "outputs": [],
   "source": [
    "data = ColumnDataSource(data_dict)\n",
    "steps = p.step('channels', 'pedestals', source=data)\n",
    "\n",
    "channel_stream = figure(title='ASIC_<x> ch<y>', tools='', \n",
    "       plot_height=350, plot_width=800,\n",
    "       background_fill_color=\"#fafafa\", )\n",
    "\n",
    "channel_stream.xaxis.axis_label = \"time (arb. units)\"\n",
    "channel_stream.yaxis.axis_label = \"adc counts (LSB)\"\n",
    "\n",
    "data = {'time': np.zeros(0), 'adc': np.zeros(0)}\n",
    "datastream = ColumnDataSource(data=data)\n",
    "\n",
    "timeseries = channel_stream.step('time', 'adc', source=datastream)"
   ]
  },
  {
   "cell_type": "code",
   "execution_count": null,
   "metadata": {},
   "outputs": [],
   "source": [
    "t = show(column(p, channel_stream), notebook_handle=True)\n",
    "#ts_handle = show(channel_stream, notebook_handle=True)"
   ]
  },
  {
   "cell_type": "code",
   "execution_count": null,
   "metadata": {},
   "outputs": [],
   "source": [
    "for i in range(100):\n",
    "    \n",
    "    pedestals = 250 + np.random.normal(scale=5, size=n_ch)\n",
    "    steps.data_source.data['pedestals'] = pedestals\n",
    "    datastream.stream({'time': [time.time() - t0], 'adc':[pedestals[0]]})\n",
    "#    data_dict['pedestals'] = 250 + np.random.normal(scale=5, size=n_ch)\n",
    "#    data.stream(data_dict)\n",
    "    push_notebook(t)\n",
    "#    push_notebook(ts_handle)\n",
    "    time.sleep(0.1)"
   ]
  },
  {
   "cell_type": "code",
   "execution_count": null,
   "metadata": {},
   "outputs": [],
   "source": [
    "time.time()"
   ]
  },
  {
   "cell_type": "code",
   "execution_count": null,
   "metadata": {},
   "outputs": [],
   "source": []
  }
 ],
 "metadata": {
  "kernelspec": {
   "display_name": "Python 3",
   "language": "python",
   "name": "python3"
  },
  "language_info": {
   "codemirror_mode": {
    "name": "ipython",
    "version": 3
   },
   "file_extension": ".py",
   "mimetype": "text/x-python",
   "name": "python",
   "nbconvert_exporter": "python",
   "pygments_lexer": "ipython3",
   "version": "3.7.4"
  }
 },
 "nbformat": 4,
 "nbformat_minor": 4
}
