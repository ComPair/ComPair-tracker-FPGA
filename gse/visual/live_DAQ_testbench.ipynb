{
 "cells": [
  {
   "cell_type": "code",
   "execution_count": null,
   "metadata": {},
   "outputs": [],
   "source": [
    "        \n",
    "from ipywidgets import interact\n",
    "import numpy as np\n",
    "from bokeh.layouts import row, column\n",
    "from bokeh.io import push_notebook, show, output_notebook\n",
    "from bokeh.plotting import figure\n",
    "from bokeh.models import ColumnDataSource, Range1d\n",
    "import time"
   ]
  },
  {
   "cell_type": "code",
   "execution_count": null,
   "metadata": {},
   "outputs": [],
   "source": [
    "t0 = time.time()\n",
    "\n",
    "import zmq\n",
    "from silayer.raw2hdf import DataPacket\n",
    "\n",
    "def loop(data_socket):\n",
    "    while True:\n",
    "        data = data_socket.recv() ## This should block until data shows up\n",
    "        dp = DataPacket(data)\n",
    "        ## Then do whatever...\n",
    "        \n",
    "def main(host=\"si-layer.local\", data_port=9998):\n",
    "    ctx = zmq.Context()\n",
    "    data_addr = f\"tcp://{host}:{data_port}\"\n",
    "    data_socket = ctx.socket(zmq.SUB)\n",
    "    data_socket.setsockopt_string(zmq.SUBSCRIBE, \"\")\n",
    "    data_socket.connect(data_addr)\n",
    "    \n",
    "    return data_socket\n",
    "socket = main(\"10.10.0.11\")"
   ]
  },
  {
   "cell_type": "code",
   "execution_count": null,
   "metadata": {},
   "outputs": [],
   "source": [
    "output_notebook()"
   ]
  },
  {
   "cell_type": "code",
   "execution_count": null,
   "metadata": {},
   "outputs": [],
   "source": [
    "p = figure(title='ASIC_<x>', tools='', \n",
    "       plot_height=350, plot_width=800,\n",
    "       background_fill_color=\"#fafafa\", )\n",
    "p.xaxis.axis_label = \"channel\"\n",
    "p.yaxis.axis_label = \"adc counts (LSB)\"\n",
    "#p.y_range = Range1d(0, 400)\n",
    "\n",
    "n_ch = 32\n",
    "channels = np.array(range(n_ch)) - 1.5\n",
    "\n",
    "data_dict = {} \n",
    "data_dict['pedestals'] = np.zeros(n_ch) -100 #+ np.random.normal(scale=5, size=n_ch)\n",
    "data_dict['channels'] = channels\n",
    "\n",
    "data = ColumnDataSource(data_dict)\n",
    "steps = p.step('channels', 'pedestals', source=data)\n",
    "\n",
    " \n",
    "\n",
    "channel_stream0 = figure(title='ASIC_<x> ch<y>', tools='', \n",
    "       plot_height=350, plot_width=800,\n",
    "       background_fill_color=\"#fafafa\", )\n",
    "\n",
    "channel_stream0.xaxis.axis_label = \"event number\"\n",
    "channel_stream0.yaxis.axis_label = \"adc counts (LSB)\"\n",
    "\n",
    "\n",
    "channel_stream1 = figure(title='ASIC_<x> ch<y>', tools='', \n",
    "       plot_height=350, plot_width=800,\n",
    "       background_fill_color=\"#fafafa\", )\n",
    "\n",
    "channel_stream1.xaxis.axis_label = \"event number\"\n",
    "channel_stream1.yaxis.axis_label = \"adc counts (LSB)\"\n",
    "\n",
    "\n",
    "data = {'time': np.zeros(0), 'adc0': np.zeros(0), 'adc1': np.zeros(0)}\n",
    "datastream = ColumnDataSource(data=data)\n",
    "\n",
    "timeseries = channel_stream0.line('time', 'adc0', source=datastream)\n",
    "timeseries = channel_stream0.circle('time', 'adc0', source=datastream)\n",
    "timeseries = channel_stream0.line('time', 'adc1', source=datastream, color='green')\n",
    "timeseries = channel_stream0.circle('time', 'adc1', source=datastream, color='green')\n",
    "\n",
    "#timeseries = channel_stream1.line('time', 'adc1', source=datastream)\n",
    "#timeseries = channel_stream1.circle('time', 'adc1', source=datastream)\n"
   ]
  },
  {
   "cell_type": "code",
   "execution_count": null,
   "metadata": {},
   "outputs": [],
   "source": []
  },
  {
   "cell_type": "code",
   "execution_count": null,
   "metadata": {},
   "outputs": [],
   "source": [
    "t = show(column(p, channel_stream0), notebook_handle=True)\n",
    "#ts_handle = show(channel_stream, notebook_handle=True)"
   ]
  },
  {
   "cell_type": "code",
   "execution_count": null,
   "metadata": {},
   "outputs": [],
   "source": [
    "event_counter = 5000\n",
    "for i in range(100000):\n",
    "    event_counter += 1\n",
    "    \n",
    "    data = 250 + np.random.normal(scale=5, size=n_ch)\n",
    "    steps.data_source.data['pedestals'] = data\n",
    "    datastream.stream({'time': [event_counter], \n",
    "                   'adc0':[data[0]], \n",
    "                   'adc1':[data[1]]}, \n",
    "                   rollover=100)    \n",
    "    \n",
    "    #data_dict['pedestals'] = 250 + np.random.normal(scale=5, size=n_ch)\n",
    "    #data.stream(data_dict)\n",
    "    push_notebook(t)\n",
    "    \n",
    "    time.sleep(np.abs(np.random.normal(0.05, scale=0.01)))"
   ]
  },
  {
   "cell_type": "code",
   "execution_count": null,
   "metadata": {},
   "outputs": [],
   "source": [
    "#for i in range(100):\n",
    "while True:\n",
    "    data = socket.recv()\n",
    "    dp = DataPacket(data)\n",
    "    ap = dp.asic_packets[0]\n",
    "    if dp.event_counter % 10 == 0:     \n",
    "    #time.sleep(0.1)\n",
    "\n",
    "        steps.data_source.data['pedestals']  = ap.data\n",
    "\n",
    "        \n",
    "        datastream.stream({'time': [dp.event_counter], \n",
    "                           'adc0':[ap.data[0]], \n",
    "                           'adc1':[ap.data[1]]}, \n",
    "                           rollover=1000)    \n",
    "        #datastream.stream({'time': np.zeros(32) + dp.event_counter, \n",
    "        #                   'adc': ap.data}, rollover=100)    \n",
    "    \n",
    "    push_notebook(t)"
   ]
  }
 ],
 "metadata": {
  "kernelspec": {
   "display_name": "Python 3",
   "language": "python",
   "name": "python3"
  },
  "language_info": {
   "codemirror_mode": {
    "name": "ipython",
    "version": 3
   },
   "file_extension": ".py",
   "mimetype": "text/x-python",
   "name": "python",
   "nbconvert_exporter": "python",
   "pygments_lexer": "ipython3",
   "version": "3.7.6"
  }
 },
 "nbformat": 4,
 "nbformat_minor": 4
}
