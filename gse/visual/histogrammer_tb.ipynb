{
 "cells": [
  {
   "cell_type": "code",
   "execution_count": null,
   "metadata": {},
   "outputs": [],
   "source": [
    "from ipywidgets import interact\n",
    "import numpy as np\n",
    "from bokeh.layouts import row, column\n",
    "from bokeh.io import push_notebook, show, output_notebook\n",
    "from bokeh.plotting import figure\n",
    "from bokeh.models import ColumnDataSource, Range1d\n",
    "import time\n",
    "\n",
    "from bokeh.palettes import Dark2_5 as palette\n",
    "# itertools handles the cycling\n",
    "import itertools  \n",
    "output_notebook()"
   ]
  },
  {
   "cell_type": "code",
   "execution_count": null,
   "metadata": {},
   "outputs": [],
   "source": [
    "import silayer"
   ]
  },
  {
   "cell_type": "code",
   "execution_count": null,
   "metadata": {},
   "outputs": [],
   "source": [
    "hist_fig = figure(title='ASIC_<x>', tools='', \n",
    "                  plot_height=350, plot_width=800,\n",
    "                  background_fill_color=\"#fafafa\", )\n",
    "\n",
    "hist_fig.xaxis.axis_label = \"adc counts (LSB)\"\n",
    "\n",
    "rate_fig = figure(title='event rate', tools='',\n",
    "                  plot_height=350, plot_width=800,\n",
    "                  background_fill_color=\"#fafafa\", )                  \n",
    "\n",
    "bin_edges = np.array(range(1025)) - 0.5\n",
    "#print(bin_edges)\n",
    "bin_centers = (bin_edges[:-1] + bin_edges[1:]) / 2\n",
    "#print(bin_centers)\n",
    "#print(len(bin_edges))\n",
    "#print(len(bin_centers))\n",
    "\n",
    "binned_data = np.zeros(len(bin_centers))\n",
    "\n",
    "hdict = {}\n",
    "for ch in range(3):\n",
    "    hdict[f'binned_ch{ch:02d}'] = np.zeros(len(bin_centers))\n",
    "\n",
    "hdict['bin_centers'] = bin_centers\n",
    "hdict['left'] = bin_edges[0:-1]\n",
    "hdict['right'] = bin_edges[1::]\n",
    "hdict['bottom'] = np.zeros(len(bin_centers))\n",
    "\n",
    "h_ds = ColumnDataSource(hdict)\n",
    "#print(h_ds.data)\n",
    "# create a color iterator\n",
    "colors = itertools.cycle(palette) \n",
    "\n",
    "for ch in range(3):\n",
    "    hist_fig.quad(top=f'binned_ch{ch:02d}', left='left', right='right', bottom='bottom', \n",
    "                  source=h_ds, color=next(colors), legend_label=f'Ch{ch:02d}')\n",
    "    \n",
    "\n",
    "rate_ds = ColumnDataSource({'t':[], 'rate':[]})\n",
    "\n",
    "rate_fig.line('t', 'rate', source=rate_ds)\n",
    "rate_fig.xaxis.axis_label = \"t (s)\"\n",
    "rate_fig.yaxis.axis_label = \"event rate (Hz)\"\n",
    "\n",
    "h = show(column(hist_fig, rate_fig), notebook_handle=True)"
   ]
  },
  {
   "cell_type": "code",
   "execution_count": null,
   "metadata": {},
   "outputs": [],
   "source": [
    "#        datastream.stream({'time': [dp.event_counter], \n",
    "#                           'adc0':[ap.data[0]], \n",
    "#                           'adc1':[ap.data[1]]}, \n",
    "#                           rollover=1000)    \n",
    "\n",
    "def bin_data(bin_edges, datum):\n",
    "    for i in range(len(bin_edges) - 1):\n",
    "        if datum >= bin_edges[i] and datum < bin_edges[i+1]: \n",
    "            binned_data[i] += 1\n",
    "            #print(datum, i, binned_data[i])\n",
    "            return datum, i, binned_data[i]\n",
    "        else:\n",
    "            continue\n",
    "\n",
    "    #should never get here\n",
    "    print(f\"dataum {datum} not in bin limits.\")\n",
    "t0 = time.time()\n",
    "tlast = time.time()    \n",
    "ch = 0\n",
    "n = 0\n",
    "for i in range(10000):\n",
    "    datum = int(np.random.normal(500, 25))\n",
    "    #datum, bin_number, bin_content = bin_data(bin_edges, datum)\n",
    "    \n",
    "    bin_number = int(np.histogram(datum, bins=bin_edges)[0].argmax())\n",
    "    #print(bin_number)\n",
    "    old_bin_content = h_ds.data[f'binned_ch{ch:02d}'][bin_number]\n",
    "    patches = {\n",
    "        f'binned_ch{ch:02d}': [ (bin_number, old_bin_content+1) ]\n",
    "    }\n",
    "    \n",
    "    h_ds.patch(patches)\n",
    "    \n",
    "    n+=1\n",
    "\n",
    "    \n",
    "    \n",
    "    \n",
    "    \n",
    "    \n",
    "    #deltaT = time.time() - tlast\n",
    "    tnow = time.time()\n",
    "    deltaT = tnow - tlast\n",
    "    if deltaT > 0.1:\n",
    "        #print(deltaT)\n",
    "        tlast = tnow\n",
    "        rate_ds.stream({'t':[tnow - t0], 'rate':[n / deltaT]}, rollover=1000)\n",
    "        n = 0\n",
    "        push_notebook(h)  "
   ]
  },
  {
   "cell_type": "code",
   "execution_count": null,
   "metadata": {},
   "outputs": [],
   "source": [
    "for i in range(100000):\n",
    "    event_counter += 1\n",
    "    \n",
    "    data = 250 + np.random.normal(scale=5, size=n_ch)\n",
    "    steps.data_source.data['pedestals'] = data\n",
    "    datastream.stream({'time': [event_counter], \n",
    "                   'adc0':[data[0]], \n",
    "                   'adc1':[data[1]]}, \n",
    "                   rollover=100)    \n",
    "    \n",
    "    #data_dict['pedestals'] = 250 + np.random.normal(scale=5, size=n_ch)\n",
    "    #data.stream(data_dict)\n",
    "    push_notebook(t)\n",
    "    \n",
    "    time.sleep(np.abs(np.random.normal(0.05, scale=0.01)))"
   ]
  },
  {
   "cell_type": "code",
   "execution_count": null,
   "metadata": {},
   "outputs": [],
   "source": [
    "bin_numbers = np.array(range(len(bin_centers)), dtype=int)\n",
    "\n",
    "type(bin_numbers)\n",
    "type(bin_numbers[0])"
   ]
  },
  {
   "cell_type": "code",
   "execution_count": null,
   "metadata": {},
   "outputs": [],
   "source": [
    "#%%timeit \n",
    "\n",
    "bin_content = np.histogram(np.random.normal(5, 0.1, 1000), bins=bin_edges)[0]\n",
    "bin_cut = bin_content != 0\n",
    "\n",
    "sl_cont = bin_content[bin_cut]\n",
    "sl_bins = bin_numbers[bin_cut]\n",
    "print(bin_content, bin_cut, bin_numbers)\n",
    "print(sl_bins, sl_cont)"
   ]
  },
  {
   "cell_type": "code",
   "execution_count": null,
   "metadata": {},
   "outputs": [],
   "source": [
    "ll = []\n",
    "for i,j in zip(sl_bins, sl_cont):\n",
    "    ll += [(i,j)]\n",
    "\n",
    "\n",
    "#sl_bins = [2]\n",
    "#sl_cont = [5]\n",
    "patches = {\n",
    "    #f'binned_ch{ch:02d}': list(zip(sl_bins, sl_cont))\n",
    "    f'binned_ch{ch:02d}': ll\n",
    "}\n",
    "    \n",
    "h_ds.patch(patches)\n",
    "\n",
    "#push_notebook(h)"
   ]
  },
  {
   "cell_type": "code",
   "execution_count": null,
   "metadata": {},
   "outputs": [],
   "source": [
    "ll = []\n",
    "\n",
    "for i,j in zip(sl_bins, sl_cont):\n",
    "    ll += [(i,j)]"
   ]
  },
  {
   "cell_type": "code",
   "execution_count": null,
   "metadata": {},
   "outputs": [],
   "source": [
    "a = [(4, 517), (5, 483)]\n"
   ]
  },
  {
   "cell_type": "code",
   "execution_count": null,
   "metadata": {},
   "outputs": [],
   "source": [
    "type(sl_bins[0])"
   ]
  },
  {
   "cell_type": "code",
   "execution_count": null,
   "metadata": {},
   "outputs": [],
   "source": [
    "help(silayer.client)"
   ]
  },
  {
   "cell_type": "code",
   "execution_count": null,
   "metadata": {},
   "outputs": [],
   "source": []
  }
 ],
 "metadata": {
  "kernelspec": {
   "display_name": "Python 3",
   "language": "python",
   "name": "python3"
  },
  "language_info": {
   "codemirror_mode": {
    "name": "ipython",
    "version": 3
   },
   "file_extension": ".py",
   "mimetype": "text/x-python",
   "name": "python",
   "nbconvert_exporter": "python",
   "pygments_lexer": "ipython3",
   "version": "3.7.6"
  }
 },
 "nbformat": 4,
 "nbformat_minor": 4
}
