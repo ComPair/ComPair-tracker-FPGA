{
 "cells": [
  {
   "cell_type": "code",
   "execution_count": 1,
   "metadata": {},
   "outputs": [],
   "source": [
    "%matplotlib inline"
   ]
  },
  {
   "cell_type": "code",
   "execution_count": 2,
   "metadata": {},
   "outputs": [],
   "source": [
    "import matplotlib.pyplot as plt\n",
    "import numpy as np \n",
    "import time\n",
    "import pyvisa as visa"
   ]
  },
  {
   "cell_type": "code",
   "execution_count": 3,
   "metadata": {},
   "outputs": [],
   "source": [
    "VISA_RM = visa.ResourceManager('@py')"
   ]
  },
  {
   "cell_type": "code",
   "execution_count": 19,
   "metadata": {},
   "outputs": [],
   "source": [
    "import numpy as np \n",
    "import pyvisa as visa\n",
    "import yaml \n",
    "\n",
    "VISA_RM = visa.ResourceManager('@py')\n",
    "class RigolSupply():\n",
    "    \n",
    "    '''Used to control a single Rigol PSU.'''\n",
    "    \n",
    "    \n",
    "    def __init__(self, address, n_ch, visa_resource_manager=VISA_RM):\n",
    "        resource_str = f'TCPIP0::{address:s}::INSTR'\n",
    "        print(f\"Building {resource_str}\")\n",
    "        self.resource = VISA_RM.open_resource(resource_str, write_termination='\\n', read_termination='\\n')\n",
    "\n",
    "        self.write = self.resource.write\n",
    "        self.query = self.resource.query\n",
    "        \n",
    "        self.n_ch = n_ch\n",
    "        \n",
    "        self.voltages = np.zeros(n_ch)\n",
    "        #self.currents = np.zeros(n_ch)\n",
    "        \n",
    "        #self.ovp = np.zeros(n_ch)\n",
    "        self.ocp = np.zeros(n_ch)\n",
    "        \n",
    "    @property\n",
    "    def IDN(self):\n",
    "        return self.query(\"*IDN?\")\n",
    "    \n",
    "    @property\n",
    "    def IP(self):\n",
    "        return self.query(\":SYSTem:COMMunicate:LAN:IPADdress?\")\n",
    "    \n",
    "    @property\n",
    "    def IDENTITY(self):\n",
    "        return f\"IDN: {self.IDN.split(',')[-2]} IP: {self.IP}\"\n",
    "        \n",
    "    def ask(self, question, verbose=False):\n",
    "        response = self.query(question)\n",
    "        if verbose:\n",
    "            print(\"Question: {0:s} - Response: {1:s}\".format(question, str(response)))\n",
    "        return response\n",
    "    \n",
    "    def tell(self, statement):\n",
    "        return self.write(statement)\n",
    "    \n",
    "    def enable_output(self, ch):\n",
    "        return self.tell(f\"OUTP:STAT CH{ch},ON\")\n",
    "    \n",
    "    def disable_output(self, ch):\n",
    "        return self.tell(f\"OUTP:STAT CH{ch},OFF\")\n",
    "    \n",
    "    \n",
    "    def set_voltage(self, ch, voltage):\n",
    "        self.tell(f\":SOURCE{ch}:VOLT {voltage}\")\n",
    "        \n",
    "    def get_voltage(self):\n",
    "        return [self.query(f\":SOURCE{ch+1}:VOLT?\") for ch in range(self.n_ch)]        \n",
    "    \n",
    "    def set_ocp(self, ch, ocp):\n",
    "        self.tell(f\":OUTP:OCP:VAL CH{ch},{ocp}\")\n",
    "    \n",
    "    def get_ocp(self):\n",
    "        return [self.query(f\":OUTP:OCP:VAL? CH{ch+1}\") for ch in range(self.n_ch)]\n",
    "\n",
    "    \n",
    "class RigolArray():    \n",
    "    \n",
    "    '''\n",
    "    \n",
    "    Used to build and deploy an array of RigolSupply objects.\n",
    "    Designed to be used with configuration files: \n",
    "    \n",
    "        #Supply voltages.\n",
    "        #Note: Negative voltage is interpreted in software as \"do not use\".\n",
    "        S3:\n",
    "            IP: \"10.10.1.53\"\n",
    "            NCH: 2\n",
    "            CH1:\n",
    "                V: -99\n",
    "                OCP: 0.01\n",
    "            CH2: \n",
    "                V: 3.6\n",
    "                OCP: 2.0\n",
    "\n",
    "        S2:\n",
    "            IP: \"10.10.1.52\"\n",
    "            NCH: 3\n",
    "            CH1:\n",
    "                V: 5.0\n",
    "                OCP: 1.25\n",
    "            CH2: \n",
    "                V: -99\n",
    "                OCP: 0.01\n",
    "            CH3:\n",
    "                V: 2.4\n",
    "                OCP: 3.0        \n",
    "    \n",
    "    \n",
    "    '''\n",
    "    \n",
    "    def __init__(self, psconfig_filename):\n",
    "        with open(psconfig_filename) as f:\n",
    "            supply_cfg = yaml.load(f, Loader=yaml.FullLoader)\n",
    "\n",
    "        self.supply_handlers = []\n",
    "        for supply in supply_cfg:\n",
    "            ps = RigolSupply(supply_cfg[supply]['IP'], supply_cfg[supply]['NCH'])   \n",
    "            print(ps.IDENTITY)\n",
    "\n",
    "            for ch in range(ps.n_ch):\n",
    "                ps.tell(f\":OUTP:OCP CH{ch+1},ON\")\n",
    "                ps.voltages[ch] = supply_cfg[supply][f\"CH{ch+1}\"]['V']\n",
    "                ps.ocp[ch] = supply_cfg[supply][f\"CH{ch+1}\"]['OCP']\n",
    "                if ps.voltages[ch] > 0:\n",
    "                    ps.set_voltage(ch+1, ps.voltages[ch])\n",
    "                    ps.set_ocp(ch+1, ps.ocp[ch])\n",
    "                else:\n",
    "                    ps.set_voltage(ch+1, 0)\n",
    "                    ps.set_ocp(ch+1, 0.001)            \n",
    "\n",
    "\n",
    "            self.supply_handlers += [ps]        \n",
    "    \n",
    "    def apply_to_all(self, ask=None, tell=None):\n",
    "        for supply in self.supply_handlers:\n",
    "            if ask is not None:\n",
    "                supply.ask(ask)\n",
    "            if tell is not None:\n",
    "                supply.tell(tell)\n",
    "\n",
    "    def power_cycle_all_supplies(self):\n",
    "        for supply in self.supply_handlers:\n",
    "            for ch in range(supply.n_ch):\n",
    "                print(supply.enable_output(ch+1))\n",
    "                time.sleep(1)\n",
    "                print(supply.disable_output(ch+1))\n",
    "\n",
    "    def report_status(self):\n",
    "        for supply in self.supply_handlers:\n",
    "            print(supply.IDENTITY)\n",
    "            print(f\"\\tChannel\\t| Status\\t| V\\t\\t| I (A)\\t\\t| P (W)  \")\n",
    "            channel_stats = []\n",
    "            channel_out_vals = []\n",
    "            for ch in range(supply.n_ch):\n",
    "                stat = supply.query(f\"OUTP:STAT? CH{ch+1}\")\n",
    "                vals = supply.query(f\"MEASure:ALL? CH{ch+1}\")\n",
    "                vals = vals.split(',')\n",
    "                vals = [float(i) for i in vals]\n",
    "                print(f\"\\t{ch+1:7d}\\t| {stat:8s}\\t| {vals[0]:3.4f}\\t| {vals[1]:3.4f}\\t| {vals[2]:3.4f}\")\n",
    "            print()\n",
    "\n",
    "    def power_up_all(self, verbose=False):\n",
    "        for supply in supply_handlers:\n",
    "            for ch in range(supply.n_ch):\n",
    "                if supply.voltages[ch] > 0:\n",
    "                    supply.enable_output(ch+1)        \n",
    "        if verbose:\n",
    "            time.sleep(1.0)\n",
    "            report_status(supply_handlers)\n",
    "\n",
    "\n",
    "    def power_down_all(self, verbose=False):\n",
    "        if verbose:\n",
    "            report_status(supply_handlers)\n",
    "            print(\"----------------------\")\n",
    "        for supply in supply_handlers:\n",
    "            for ch in range(supply.n_ch):\n",
    "                supply.disable_output(ch+1)\n",
    "        if verbose:\n",
    "            time.sleep(1.0)\n",
    "            report_status(supply_handlers)"
   ]
  },
  {
   "cell_type": "code",
   "execution_count": 5,
   "metadata": {},
   "outputs": [],
   "source": []
  },
  {
   "cell_type": "code",
   "execution_count": 6,
   "metadata": {},
   "outputs": [],
   "source": [
    "with open('supply_defaults.yaml') as f:\n",
    "    supply_cfg = yaml.load(f, Loader=yaml.FullLoader)"
   ]
  },
  {
   "cell_type": "code",
   "execution_count": 7,
   "metadata": {},
   "outputs": [
    {
     "data": {
      "text/plain": [
       "{'S3': {'IP': '10.10.1.53',\n",
       "  'NCH': 2,\n",
       "  'CH1': {'V': -99, 'OCP': 0.01},\n",
       "  'CH2': {'V': 3.6, 'OCP': 2.0}},\n",
       " 'S2': {'IP': '10.10.1.52',\n",
       "  'NCH': 3,\n",
       "  'CH1': {'V': 5.0, 'OCP': 1.25},\n",
       "  'CH2': {'V': -99, 'OCP': 0.01},\n",
       "  'CH3': {'V': 2.4, 'OCP': 3.0}},\n",
       " 'S1': {'IP': '10.10.1.51',\n",
       "  'NCH': 2,\n",
       "  'CH1': {'V': 5.4, 'OCP': 0.3},\n",
       "  'CH2': {'V': 3.4, 'OCP': 4.0}},\n",
       " 'S0': {'IP': '10.10.1.50',\n",
       "  'NCH': 2,\n",
       "  'CH1': {'V': 5.4, 'OCP': 0.3},\n",
       "  'CH2': {'V': 1.9, 'OCP': 1.5}}}"
      ]
     },
     "execution_count": 7,
     "metadata": {},
     "output_type": "execute_result"
    }
   ],
   "source": [
    "supply_cfg"
   ]
  },
  {
   "cell_type": "code",
   "execution_count": 9,
   "metadata": {},
   "outputs": [
    {
     "name": "stdout",
     "output_type": "stream",
     "text": [
      "S3 {'IP': '10.10.1.53', 'NCH': 2, 'CH1': {'V': -99, 'OCP': 0.01}, 'CH2': {'V': 3.6, 'OCP': 2.0}}\n",
      "S2 {'IP': '10.10.1.52', 'NCH': 3, 'CH1': {'V': 5.0, 'OCP': 1.25}, 'CH2': {'V': -99, 'OCP': 0.01}, 'CH3': {'V': 2.4, 'OCP': 3.0}}\n",
      "S1 {'IP': '10.10.1.51', 'NCH': 2, 'CH1': {'V': 5.4, 'OCP': 0.3}, 'CH2': {'V': 3.4, 'OCP': 4.0}}\n",
      "S0 {'IP': '10.10.1.50', 'NCH': 2, 'CH1': {'V': 5.4, 'OCP': 0.3}, 'CH2': {'V': 1.9, 'OCP': 1.5}}\n"
     ]
    }
   ],
   "source": [
    "for supply in supply_cfg:\n",
    "    print(supply, supply_cfg[supply])"
   ]
  },
  {
   "cell_type": "code",
   "execution_count": 10,
   "metadata": {},
   "outputs": [
    {
     "data": {
      "text/plain": [
       "'S0'"
      ]
     },
     "execution_count": 10,
     "metadata": {},
     "output_type": "execute_result"
    }
   ],
   "source": [
    "supply"
   ]
  },
  {
   "cell_type": "code",
   "execution_count": 11,
   "metadata": {},
   "outputs": [
    {
     "ename": "NameError",
     "evalue": "name 'supply_handlers' is not defined",
     "output_type": "error",
     "traceback": [
      "\u001b[1;31m---------------------------------------------------------------------------\u001b[0m",
      "\u001b[1;31mNameError\u001b[0m                                 Traceback (most recent call last)",
      "\u001b[1;32m<ipython-input-11-d0e7ea71ee01>\u001b[0m in \u001b[0;36m<module>\u001b[1;34m\u001b[0m\n\u001b[1;32m----> 1\u001b[1;33m \u001b[0ms0\u001b[0m \u001b[1;33m=\u001b[0m \u001b[0msupply_handlers\u001b[0m\u001b[1;33m[\u001b[0m\u001b[1;36m0\u001b[0m\u001b[1;33m]\u001b[0m\u001b[1;33m\u001b[0m\u001b[1;33m\u001b[0m\u001b[0m\n\u001b[0m",
      "\u001b[1;31mNameError\u001b[0m: name 'supply_handlers' is not defined"
     ]
    }
   ],
   "source": [
    "s0 = supply_handlers[0]"
   ]
  },
  {
   "cell_type": "code",
   "execution_count": null,
   "metadata": {},
   "outputs": [],
   "source": []
  },
  {
   "cell_type": "code",
   "execution_count": 12,
   "metadata": {},
   "outputs": [
    {
     "name": "stdout",
     "output_type": "stream",
     "text": [
      "Building TCPIP0::10.10.1.50::INSTR\n"
     ]
    }
   ],
   "source": [
    "ps = RigolSupply(supply_cfg[supply]['IP'], supply_cfg[supply]['NCH'])\n"
   ]
  },
  {
   "cell_type": "code",
   "execution_count": 13,
   "metadata": {},
   "outputs": [
    {
     "ename": "NameError",
     "evalue": "name 'supply_handlers' is not defined",
     "output_type": "error",
     "traceback": [
      "\u001b[1;31m---------------------------------------------------------------------------\u001b[0m",
      "\u001b[1;31mNameError\u001b[0m                                 Traceback (most recent call last)",
      "\u001b[1;32m<ipython-input-13-f2db26d8bbc6>\u001b[0m in \u001b[0;36m<module>\u001b[1;34m\u001b[0m\n\u001b[1;32m----> 1\u001b[1;33m \u001b[0mreport_status\u001b[0m\u001b[1;33m(\u001b[0m\u001b[0msupply_handlers\u001b[0m\u001b[1;33m)\u001b[0m\u001b[1;33m\u001b[0m\u001b[1;33m\u001b[0m\u001b[0m\n\u001b[0m",
      "\u001b[1;31mNameError\u001b[0m: name 'supply_handlers' is not defined"
     ]
    }
   ],
   "source": [
    "report_status(supply_handlers)"
   ]
  },
  {
   "cell_type": "code",
   "execution_count": null,
   "metadata": {},
   "outputs": [],
   "source": [
    "def power_up_all(supply_handlers, verbose=False):\n",
    "    for supply in supply_handlers:\n",
    "        for ch in range(supply.n_ch):\n",
    "            supply.enable_output(ch+1)        \n",
    "    if verbose:\n",
    "        report_status(supply_handlers)"
   ]
  },
  {
   "cell_type": "code",
   "execution_count": null,
   "metadata": {},
   "outputs": [],
   "source": [
    "supply = supply_handlers[0]"
   ]
  },
  {
   "cell_type": "code",
   "execution_count": 15,
   "metadata": {},
   "outputs": [],
   "source": [
    "psconfig_filename = 'supply_defaults.yaml'"
   ]
  },
  {
   "cell_type": "code",
   "execution_count": 18,
   "metadata": {},
   "outputs": [
    {
     "name": "stdout",
     "output_type": "stream",
     "text": [
      "Building TCPIP0::10.10.1.53::INSTR\n",
      "IDN: DP8E214200286 IP: 10.10.1.53\n",
      "Building TCPIP0::10.10.1.52::INSTR\n",
      "IDN: DP8B212500667 IP: 10.10.1.52\n",
      "Building TCPIP0::10.10.1.51::INSTR\n",
      "IDN: DP8E203700164 IP: 10.10.1.51\n",
      "Building TCPIP0::10.10.1.50::INSTR\n",
      "IDN: DP8E203100159 IP: 10.10.1.50\n",
      "['0.0010', '2.000']\n",
      "['0.000', '3.600']\n",
      "['1.250', '0.001', '3.000']\n",
      "['5.000', '0.000', '2.400']\n",
      "['0.3000', '4.000']\n",
      "['5.400', '3.400']\n",
      "['0.3000', '1.500']\n",
      "['5.400', '1.900']\n"
     ]
    }
   ],
   "source": [
    "with open(psconfig_filename) as f:\n",
    "    supply_cfg = yaml.load(f, Loader=yaml.FullLoader)\n",
    "\n",
    "supply_handlers = []\n",
    "for supply in supply_cfg:\n",
    "    ps = RigolSupply(supply_cfg[supply]['IP'], supply_cfg[supply]['NCH'])   \n",
    "    print(ps.IDENTITY)\n",
    "    \n",
    "    for ch in range(ps.n_ch):\n",
    "        ps.tell(f\":OUTP:OCP CH{ch+1},ON\")\n",
    "        ps.voltages[ch] = supply_cfg[supply][f\"CH{ch+1}\"]['V']\n",
    "        ps.ocp[ch] = supply_cfg[supply][f\"CH{ch+1}\"]['OCP']\n",
    "        if ps.voltages[ch] > 0:\n",
    "            ps.set_voltage(ch+1, ps.voltages[ch])\n",
    "            ps.set_ocp(ch+1, ps.ocp[ch])\n",
    "        else:\n",
    "            ps.set_voltage(ch+1, 0)\n",
    "            ps.set_ocp(ch+1, 0.001)            \n",
    "            \n",
    "\n",
    "    supply_handlers += [ps]\n",
    "    \n",
    "for supply in supply_handlers:\n",
    "    print(supply.get_ocp())\n",
    "    print(supply.get_voltage())"
   ]
  },
  {
   "cell_type": "code",
   "execution_count": null,
   "metadata": {},
   "outputs": [],
   "source": [
    "report_status(supply_handlers)"
   ]
  },
  {
   "cell_type": "code",
   "execution_count": null,
   "metadata": {},
   "outputs": [],
   "source": []
  },
  {
   "cell_type": "code",
   "execution_count": null,
   "metadata": {},
   "outputs": [],
   "source": [
    "power_up_all(supply_handlers, True)"
   ]
  },
  {
   "cell_type": "code",
   "execution_count": null,
   "metadata": {},
   "outputs": [],
   "source": [
    "power_down_all(supply_handlers, True)"
   ]
  },
  {
   "cell_type": "code",
   "execution_count": 21,
   "metadata": {},
   "outputs": [
    {
     "name": "stdout",
     "output_type": "stream",
     "text": [
      "Building TCPIP0::10.10.1.53::INSTR\n",
      "IDN: DP8E214200286 IP: 10.10.1.53\n",
      "Building TCPIP0::10.10.1.52::INSTR\n",
      "IDN: DP8B212500667 IP: 10.10.1.52\n",
      "Building TCPIP0::10.10.1.51::INSTR\n",
      "IDN: DP8E203700164 IP: 10.10.1.51\n",
      "Building TCPIP0::10.10.1.50::INSTR\n",
      "IDN: DP8E203100159 IP: 10.10.1.50\n"
     ]
    }
   ],
   "source": [
    "supplies = RigolArray('supply_defaults.yaml')"
   ]
  },
  {
   "cell_type": "code",
   "execution_count": 22,
   "metadata": {},
   "outputs": [
    {
     "name": "stdout",
     "output_type": "stream",
     "text": [
      "IDN: DP8E214200286 IP: 10.10.1.53\n",
      "\tChannel\t| Status\t| V\t\t| I (A)\t\t| P (W)  \n",
      "\t      1\t| OFF     \t| 0.0000\t| 0.0000\t| 0.0000\n",
      "\t      2\t| OFF     \t| 0.0000\t| 0.0000\t| 0.0000\n",
      "\n",
      "IDN: DP8B212500667 IP: 10.10.1.52\n",
      "\tChannel\t| Status\t| V\t\t| I (A)\t\t| P (W)  \n",
      "\t      1\t| OFF     \t| 0.0000\t| 0.0000\t| 0.0000\n",
      "\t      2\t| OFF     \t| 0.0000\t| 0.0000\t| 0.0000\n",
      "\t      3\t| OFF     \t| 0.0000\t| 0.0000\t| 0.0000\n",
      "\n",
      "IDN: DP8E203700164 IP: 10.10.1.51\n",
      "\tChannel\t| Status\t| V\t\t| I (A)\t\t| P (W)  \n",
      "\t      1\t| OFF     \t| 0.0000\t| 0.0000\t| 0.0000\n",
      "\t      2\t| OFF     \t| 0.0000\t| 0.0000\t| 0.0000\n",
      "\n",
      "IDN: DP8E203100159 IP: 10.10.1.50\n",
      "\tChannel\t| Status\t| V\t\t| I (A)\t\t| P (W)  \n",
      "\t      1\t| OFF     \t| 0.0000\t| 0.0000\t| 0.0000\n",
      "\t      2\t| OFF     \t| 0.0000\t| 0.0000\t| 0.0000\n",
      "\n"
     ]
    }
   ],
   "source": [
    "supplies.report_status()"
   ]
  },
  {
   "cell_type": "code",
   "execution_count": 23,
   "metadata": {},
   "outputs": [
    {
     "name": "stdout",
     "output_type": "stream",
     "text": [
      "IDN: DP8E214200286 IP: 10.10.1.53\n",
      "\tChannel\t| Status\t| V\t\t| I (A)\t\t| P (W)  \n",
      "\t      1\t| OFF     \t| 0.0000\t| 0.0000\t| 0.0000\n",
      "\t      2\t| ON      \t| 3.6010\t| 0.0000\t| 0.0000\n",
      "\n",
      "IDN: DP8B212500667 IP: 10.10.1.52\n",
      "\tChannel\t| Status\t| V\t\t| I (A)\t\t| P (W)  \n",
      "\t      1\t| ON      \t| 5.0014\t| 0.0000\t| 0.0000\n",
      "\t      2\t| OFF     \t| 0.0000\t| 0.0000\t| 0.0000\n",
      "\t      3\t| ON      \t| 2.4009\t| 0.0000\t| 0.0000\n",
      "\n",
      "IDN: DP8E203700164 IP: 10.10.1.51\n",
      "\tChannel\t| Status\t| V\t\t| I (A)\t\t| P (W)  \n",
      "\t      1\t| ON      \t| 5.4020\t| 0.0013\t| 0.0070\n",
      "\t      2\t| ON      \t| 3.3980\t| 1.0520\t| 3.5750\n",
      "\n",
      "IDN: DP8E203100159 IP: 10.10.1.50\n",
      "\tChannel\t| Status\t| V\t\t| I (A)\t\t| P (W)  \n",
      "\t      1\t| ON      \t| 5.4100\t| 0.0025\t| 0.0140\n",
      "\t      2\t| ON      \t| 1.9000\t| 0.0000\t| 0.0000\n",
      "\n"
     ]
    }
   ],
   "source": [
    "supplies.power_up_all(True)"
   ]
  },
  {
   "cell_type": "code",
   "execution_count": null,
   "metadata": {},
   "outputs": [],
   "source": []
  }
 ],
 "metadata": {
  "kernelspec": {
   "display_name": "Python 3",
   "language": "python",
   "name": "python3"
  },
  "language_info": {
   "codemirror_mode": {
    "name": "ipython",
    "version": 3
   },
   "file_extension": ".py",
   "mimetype": "text/x-python",
   "name": "python",
   "nbconvert_exporter": "python",
   "pygments_lexer": "ipython3",
   "version": "3.7.6"
  }
 },
 "nbformat": 4,
 "nbformat_minor": 4
}
