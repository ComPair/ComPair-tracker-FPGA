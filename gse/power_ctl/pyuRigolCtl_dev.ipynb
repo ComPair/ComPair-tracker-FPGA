{
 "cells": [
  {
   "cell_type": "code",
   "execution_count": null,
   "metadata": {},
   "outputs": [],
   "source": [
    "%matplotlib inline"
   ]
  },
  {
   "cell_type": "code",
   "execution_count": null,
   "metadata": {},
   "outputs": [],
   "source": [
    "import matplotlib.pyplot as plt\n",
    "import numpy as np \n",
    "import time\n",
    "import pyvisa as visa"
   ]
  },
  {
   "cell_type": "code",
   "execution_count": null,
   "metadata": {},
   "outputs": [],
   "source": [
    "VISA_RM = visa.ResourceManager('@py')"
   ]
  },
  {
   "cell_type": "code",
   "execution_count": null,
   "metadata": {},
   "outputs": [],
   "source": [
    "import numpy as np \n",
    "import pyvisa as visa\n",
    "\n",
    "VISA_RM = visa.ResourceManager('@py')\n",
    "class RigolSupply():\n",
    "    def __init__(self, address, n_ch, visa_resource_manager=VISA_RM):\n",
    "        resource_str = f'TCPIP0::{address:s}::INSTR'\n",
    "        print(f\"Building {resource_str}\")\n",
    "        self.resource = VISA_RM.open_resource(resource_str, write_termination='\\n', read_termination='\\n')\n",
    "\n",
    "        self.write = self.resource.write\n",
    "        self.query = self.resource.query\n",
    "        \n",
    "        self.n_ch = n_ch\n",
    "        \n",
    "        self.voltages = np.zeros(n_ch)\n",
    "        #self.currents = np.zeros(n_ch)\n",
    "        \n",
    "        #self.ovp = np.zeros(n_ch)\n",
    "        self.ocp = np.zeros(n_ch)\n",
    "        \n",
    "    @property\n",
    "    def IDN(self):\n",
    "        return self.query(\"*IDN?\")\n",
    "    \n",
    "    @property\n",
    "    def IP(self):\n",
    "        return self.query(\":SYSTem:COMMunicate:LAN:IPADdress?\")\n",
    "    \n",
    "    @property\n",
    "    def IDENTITY(self):\n",
    "        return f\"IDN: {self.IDN.split(',')[-2]} IP: {self.IP}\"\n",
    "        \n",
    "    def ask(self, question, verbose=False):\n",
    "        response = self.query(question)\n",
    "        if verbose:\n",
    "            print(\"Question: {0:s} - Response: {1:s}\".format(question, str(response)))\n",
    "        return response\n",
    "    \n",
    "    def tell(self, statement):\n",
    "        return self.write(statement)\n",
    "    \n",
    "    def enable_output(self, ch):\n",
    "        return self.tell(f\"OUTP:STAT CH{ch},ON\")\n",
    "    \n",
    "    def disable_output(self, ch):\n",
    "        return self.tell(f\"OUTP:STAT CH{ch},OFF\")\n",
    "    \n",
    "    \n",
    "    def set_voltage(self, ch, voltage):\n",
    "        self.tell(f\":SOURCE{ch}:VOLT {voltage}\")\n",
    "        \n",
    "    def get_voltage(self):\n",
    "        return [self.query(f\":SOURCE{ch+1}:VOLT?\") for ch in range(self.n_ch)]        \n",
    "    \n",
    "    def set_ocp(self, ch, ocp):\n",
    "        self.tell(f\":OUTP:OCP:VAL CH{ch},{ocp}\")\n",
    "    \n",
    "    def get_ocp(self):\n",
    "        return [self.query(f\":OUTP:OCP:VAL? CH{ch+1}\") for ch in range(self.n_ch)]\n",
    "\n",
    "\n",
    "\n",
    "def apply_to_all(supply_hanlers, ask=None, tell=None):\n",
    "    for supply in supply_handlers:\n",
    "        if ask is not None:\n",
    "            supply.ask(ask)\n",
    "        if tell is not None:\n",
    "            supply.tell(tell)\n",
    "                    \n",
    "def power_on_fpga(supply_handlers, fpga_pair):\n",
    "    supply_handlers[fpga_pair[0]].enable_output(fpga_pair[1])\n",
    "    \n",
    "def power_off_fpga(supply_handlers, fpga_pair):\n",
    "    supply_handlers[fpga_pair[0]].disable_output(fpga_pair[1])\n",
    "    \n",
    "def power_cycle_fpga(supply_handlers, fpga_pair, sleepytime=1):\n",
    "    power_off_fpga(supply_handlers, fpga_pair)\n",
    "    time.sleep(sleepttime)\n",
    "    power_on_fpga(supply_handlers, fpga_pair)\n",
    "    \n",
    "def power_cycle_all_supplies(supply_handlers):\n",
    "    for supply in supply_handlers:\n",
    "        for ch in range(supply.n_ch):\n",
    "            print(supply.enable_output(ch+1))\n",
    "            time.sleep(1)\n",
    "            print(supply.disable_output(ch+1))\n",
    "\n",
    "def report_status(supply_handlers):\n",
    "    for supply in supply_handlers:\n",
    "        print(supply.IDENTITY)\n",
    "        print(f\"\\tChannel\\t| Status\\t| V\\t\\t| I (A)\\t\\t| P (W)  \")\n",
    "        channel_stats = []\n",
    "        channel_out_vals = []\n",
    "        for ch in range(supply.n_ch):\n",
    "            stat = supply.query(f\"OUTP:STAT? CH{ch+1}\")\n",
    "            vals = supply.query(f\"MEASure:ALL? CH{ch+1}\")\n",
    "            vals = vals.split(',')\n",
    "            vals = [float(i) for i in vals]\n",
    "            print(f\"\\t{ch+1:7d}\\t| {stat:8s}\\t| {vals[0]:3.4f}\\t| {vals[1]:3.4f}\\t| {vals[2]:3.4f}\")\n",
    "        print()\n",
    "        \n",
    "def power_up_all(supply_handlers, verbose=False):\n",
    "    for supply in supply_handlers:\n",
    "        for ch in range(supply.n_ch):\n",
    "            if supply.voltages[ch] > 0:\n",
    "                supply.enable_output(ch+1)        \n",
    "    if verbose:\n",
    "        time.sleep(1.0)\n",
    "        report_status(supply_handlers)\n",
    "    \n",
    "    \n",
    "def power_down_all(supply_handlers, verbose=False):\n",
    "    if verbose:\n",
    "        report_status(supply_handlers)\n",
    "        print(\"----------------------\")\n",
    "    for supply in supply_handlers:\n",
    "        for ch in range(supply.n_ch):\n",
    "            supply.disable_output(ch+1)\n",
    "    if verbose:\n",
    "        time.sleep(1.0)\n",
    "        report_status(supply_handlers)"
   ]
  },
  {
   "cell_type": "code",
   "execution_count": null,
   "metadata": {},
   "outputs": [],
   "source": [
    "import yaml "
   ]
  },
  {
   "cell_type": "code",
   "execution_count": null,
   "metadata": {},
   "outputs": [],
   "source": [
    "with open('supply_defaults.yaml') as f:\n",
    "    supply_cfg = yaml.load(f, Loader=yaml.FullLoader)"
   ]
  },
  {
   "cell_type": "code",
   "execution_count": null,
   "metadata": {},
   "outputs": [],
   "source": [
    "supply_cfg"
   ]
  },
  {
   "cell_type": "code",
   "execution_count": null,
   "metadata": {},
   "outputs": [],
   "source": [
    "for supply in supply_cfg:\n",
    "    print(supply, supply_cfg[supply])"
   ]
  },
  {
   "cell_type": "code",
   "execution_count": null,
   "metadata": {},
   "outputs": [],
   "source": [
    "supply"
   ]
  },
  {
   "cell_type": "code",
   "execution_count": null,
   "metadata": {},
   "outputs": [],
   "source": [
    "s0 = supply_handlers[0]"
   ]
  },
  {
   "cell_type": "code",
   "execution_count": null,
   "metadata": {},
   "outputs": [],
   "source": []
  },
  {
   "cell_type": "code",
   "execution_count": null,
   "metadata": {},
   "outputs": [],
   "source": [
    "ps = RigolSupply(supply_cfg[supply]['IP'], supply_cfg[supply]['NCH'])\n"
   ]
  },
  {
   "cell_type": "code",
   "execution_count": null,
   "metadata": {},
   "outputs": [],
   "source": [
    "report_status(supply_handlers)"
   ]
  },
  {
   "cell_type": "code",
   "execution_count": null,
   "metadata": {},
   "outputs": [],
   "source": [
    "def power_up_all(supply_handlers, verbose=False):\n",
    "    for supply in supply_handlers:\n",
    "        for ch in range(supply.n_ch):\n",
    "            supply.enable_output(ch+1)        \n",
    "    if verbose:\n",
    "        report_status(supply_handlers)"
   ]
  },
  {
   "cell_type": "code",
   "execution_count": null,
   "metadata": {},
   "outputs": [],
   "source": [
    "supply = supply_handlers[0]\n"
   ]
  },
  {
   "cell_type": "code",
   "execution_count": null,
   "metadata": {},
   "outputs": [],
   "source": [
    "with open('supply_defaults.yaml') as f:\n",
    "    supply_cfg = yaml.load(f, Loader=yaml.FullLoader)\n",
    "\n",
    "supply_handlers = []\n",
    "for supply in supply_cfg:\n",
    "    ps = RigolSupply(supply_cfg[supply]['IP'], supply_cfg[supply]['NCH'])   \n",
    "    print(ps.IDENTITY)\n",
    "    \n",
    "    for ch in range(ps.n_ch):\n",
    "        ps.tell(f\":OUTP:OCP CH{ch+1},ON\")\n",
    "        ps.voltages[ch] = supply_cfg[supply][f\"CH{ch+1}\"]['V']\n",
    "        ps.ocp[ch] = supply_cfg[supply][f\"CH{ch+1}\"]['OCP']\n",
    "        if ps.voltages[ch] > 0:\n",
    "            ps.set_voltage(ch+1, ps.voltages[ch])\n",
    "            ps.set_ocp(ch+1, ps.ocp[ch])\n",
    "        else:\n",
    "            ps.set_voltage(ch+1, 0)\n",
    "            ps.set_ocp(ch+1, 0.001)            \n",
    "            \n",
    "\n",
    "    supply_handlers += [ps]\n",
    "    \n"
   ]
  },
  {
   "cell_type": "code",
   "execution_count": null,
   "metadata": {},
   "outputs": [],
   "source": [
    "report_status(supply_handlers)"
   ]
  },
  {
   "cell_type": "code",
   "execution_count": null,
   "metadata": {},
   "outputs": [],
   "source": []
  },
  {
   "cell_type": "code",
   "execution_count": null,
   "metadata": {},
   "outputs": [],
   "source": [
    "power_up_all(supply_handlers, True)"
   ]
  },
  {
   "cell_type": "code",
   "execution_count": null,
   "metadata": {},
   "outputs": [],
   "source": [
    "power_down_all(supply_handlers, True)"
   ]
  },
  {
   "cell_type": "code",
   "execution_count": null,
   "metadata": {},
   "outputs": [],
   "source": []
  }
 ],
 "metadata": {
  "kernelspec": {
   "display_name": "Python 3",
   "language": "python",
   "name": "python3"
  },
  "language_info": {
   "codemirror_mode": {
    "name": "ipython",
    "version": 3
   },
   "file_extension": ".py",
   "mimetype": "text/x-python",
   "name": "python",
   "nbconvert_exporter": "python",
   "pygments_lexer": "ipython3",
   "version": "3.7.6"
  }
 },
 "nbformat": 4,
 "nbformat_minor": 4
}
