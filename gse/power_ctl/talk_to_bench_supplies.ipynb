{
 "cells": [
  {
   "cell_type": "code",
   "execution_count": 3,
   "metadata": {},
   "outputs": [],
   "source": [
    "%matplotlib inline"
   ]
  },
  {
   "cell_type": "code",
   "execution_count": 4,
   "metadata": {},
   "outputs": [],
   "source": [
    "import matplotlib.pyplot as plt\n",
    "import numpy as np \n",
    "import time\n",
    "import pyvisa as visa"
   ]
  },
  {
   "cell_type": "code",
   "execution_count": 5,
   "metadata": {},
   "outputs": [],
   "source": [
    "VISA_RM = visa.ResourceManager('@py')"
   ]
  },
  {
   "cell_type": "code",
   "execution_count": 157,
   "metadata": {},
   "outputs": [],
   "source": [
    "class RigolSupply():\n",
    "    def __init__(self, address, n_ch, visa_resource_manager=VISA_RM):\n",
    "        resource_str = f'TCPIP0::{address:s}::INSTR'\n",
    "        print(resource_str)\n",
    "        self.resource = VISA_RM.open_resource(resource_str, write_termination='\\n', read_termination='\\n')\n",
    "\n",
    "        self.write = self.resource.write\n",
    "        self.query = self.resource.query\n",
    "        \n",
    "        self.n_ch = n_ch\n",
    "        \n",
    "        self.voltages = np.zeros(n_ch)\n",
    "        self.currents = np.zeros(n_ch)\n",
    "        \n",
    "        self.ovp_lim = np.zeros(n_ch)\n",
    "        self.ocp_lim = np.zeros(n_ch)\n",
    "        \n",
    "    @property\n",
    "    def IDN(self):\n",
    "        return self.query(\"*IDN?\")\n",
    "    \n",
    "    @property\n",
    "    def IP(self):\n",
    "        return self.query(\":SYSTem:COMMunicate:LAN:IPADdress?\")\n",
    "    \n",
    "    @property\n",
    "    def IDENTITY(self):\n",
    "        return f\"IDN: {self.IDN.split(',')[-2]} IP: {self.IP}\"\n",
    "        \n",
    "    def ask(self, question, verbose=False):\n",
    "        response = self.query(question)\n",
    "        if verbose:\n",
    "            print(\"Question: {0:s} - Response: {1:s}\".format(question, str(response)))\n",
    "        return response\n",
    "    \n",
    "    def tell(self, statement):\n",
    "        return self.write(statement)\n",
    "    \n",
    "    def enable_output(self, ch):\n",
    "        return self.tell(f\"OUTP:STAT CH{ch},ON\")\n",
    "    \n",
    "    def disable_output(self, ch):\n",
    "        return self.tell(f\"OUTP:STAT CH{ch},OFF\")\n",
    "\n",
    "    def set_ocp(self, ocp):\n",
    "        for ch in range(n_ch):\n",
    "            self.tell(f\":OUTP:OCP:VAL CH{ch},{ocp[ch]}\")\n",
    "    \n",
    "    def get_ocp(self):\n",
    "        return [self.query(f\":OUTP:OCP:VAL? CH{ch}\") for ch in range(self.n_ch)]\n",
    "\n",
    "\n",
    "def apply_to_all(supply_hanlers, ask=None, tell=None):\n",
    "    for supply in supply_handlers:\n",
    "        if ask is not None:\n",
    "            supply.ask(ask)\n",
    "        if tell is not None:\n",
    "            supply.tell(tell)\n",
    "        \n",
    "\n",
    "            \n",
    "            \n",
    "            \n",
    "            \n",
    "def power_on_fpga(supply_handlers, fpga_pair):\n",
    "    supply_handlers[fpga_pair[0]].enable_output(fpga_pair[1])\n",
    "    \n",
    "def power_off_fpga(supply_handlers, fpga_pair):\n",
    "    supply_handlers[fpga_pair[0]].disable_output(fpga_pair[1])\n",
    "    \n",
    "def power_cycle_fpga(supply_handlers, fpga_pair, sleepytime=1):\n",
    "    power_off_fpga(supply_handlers, fpga_pair)\n",
    "    time.sleep(sleepttime)\n",
    "    power_on_fpga(supply_handlers, fpga_pair)\n",
    "    \n",
    "def power_cycle_all_supplies(supply_handlers):\n",
    "    for supply in supply_handlers:\n",
    "        for ch in range(supply.n_ch):\n",
    "            print(supply.enable_output(ch+1))\n",
    "            time.sleep(1)\n",
    "            print(supply.disable_output(ch+1))\n",
    "\n",
    "def report_status(supply_handlers):\n",
    "    for supply in supply_handlers:\n",
    "        print(supply.IDENTITY)\n",
    "        print(f\"\\tChannel\\t| Status\\t| V\\t\\t| I (A)\\t\\t| P (W)  \")\n",
    "        channel_stats = []\n",
    "        channel_out_vals = []\n",
    "        for ch in range(supply.n_ch):\n",
    "            stat = supply.query(f\"OUTP:STAT? CH{ch+1}\")\n",
    "            vals = supply.query(f\"MEASure:ALL? CH{ch+1}\")\n",
    "            vals = vals.split(',')\n",
    "            vals = [float(i) for i in vals]\n",
    "            print(f\"\\t{ch+1:7d}\\t| {stat:8s}\\t| {vals[0]:3.4f}\\t| {vals[1]:3.4f}\\t| {vals[2]:3.4f}\")\n",
    "        print()\n",
    "        \n",
    "def power_up_all(supply_handlers, verbose=False):\n",
    "    for supply in supply_handlers:\n",
    "        for ch in range(supply.n_ch):\n",
    "            supply.enable_output(ch+1)        \n",
    "    if verbose:\n",
    "        report_status(supply_handlers)\n",
    "    \n",
    "    \n",
    "def power_down_all(supply_handlers, verbose=False):\n",
    "    for supply in supply_handlers:\n",
    "        for ch in range(supply.n_ch):\n",
    "            supply.enable_output(ch+1)\n",
    "    if verbose:\n",
    "        report_status(supply_handlers)"
   ]
  },
  {
   "cell_type": "code",
   "execution_count": 158,
   "metadata": {
    "scrolled": true
   },
   "outputs": [
    {
     "name": "stdout",
     "output_type": "stream",
     "text": [
      "TCPIP0::10.10.1.50::INSTR\n",
      "TCPIP0::10.10.1.51::INSTR\n",
      "TCPIP0::10.10.1.52::INSTR\n",
      "TCPIP0::10.10.1.53::INSTR\n"
     ]
    }
   ],
   "source": [
    "supply_IPs = [\"10.10.1.50\", \n",
    "              \"10.10.1.51\", \n",
    "              \"10.10.1.52\", \n",
    "              \"10.10.1.53\"]\n",
    "\n",
    "supply_channels = [2, 2, 3, 2]\n",
    "fpga_pair = [1, 2]\n",
    "\n",
    "AFE_power_lines = [[0, 1], [0,2], \n",
    "                   [1, 0], #Second channel iss the FPGA.\n",
    "                   [2, 0], [2, 2],\n",
    "                   [3, 0], [3, 1]\n",
    "                  ]\n",
    "\n",
    "supply_handlers = [RigolSupply(ip, n_ch) for ip,n_ch in zip(supply_IPs, supply_channels)]"
   ]
  },
  {
   "cell_type": "code",
   "execution_count": 159,
   "metadata": {},
   "outputs": [
    {
     "name": "stdout",
     "output_type": "stream",
     "text": [
      "IDN: DP8E203100159 IP: 10.10.1.50\n",
      "\tChannel\t| Status\t| V\t\t| I (A)\t\t| P (W)  \n",
      "\t      1\t| ON      \t| 5.4110\t| 0.0025\t| 0.0140\n",
      "\t      2\t| ON      \t| 1.9010\t| 0.0000\t| 0.0000\n",
      "\n",
      "IDN: DP8E203700164 IP: 10.10.1.51\n",
      "\tChannel\t| Status\t| V\t\t| I (A)\t\t| P (W)  \n",
      "\t      1\t| ON      \t| 5.4000\t| 0.0012\t| 0.0060\n",
      "\t      2\t| OFF     \t| 0.0000\t| 0.0000\t| 0.0000\n",
      "\n",
      "IDN: DP8B212500667 IP: 10.10.1.52\n",
      "\tChannel\t| Status\t| V\t\t| I (A)\t\t| P (W)  \n",
      "\t      1\t| ON      \t| 4.9993\t| 0.0000\t| 0.0000\n",
      "\t      2\t| ON      \t| 3.4531\t| 0.0000\t| 0.0000\n",
      "\t      3\t| ON      \t| 2.4015\t| 0.0000\t| 0.0000\n",
      "\n",
      "IDN: DP8E214200286 IP: 10.10.1.53\n",
      "\tChannel\t| Status\t| V\t\t| I (A)\t\t| P (W)  \n",
      "\t      1\t| ON      \t| 0.4980\t| 0.0002\t| 0.0000\n",
      "\t      2\t| ON      \t| 3.6000\t| 0.0000\t| 0.0000\n",
      "\n"
     ]
    }
   ],
   "source": [
    "report_status(supply_handlers)"
   ]
  },
  {
   "cell_type": "code",
   "execution_count": 170,
   "metadata": {},
   "outputs": [
    {
     "name": "stdout",
     "output_type": "stream",
     "text": [
      "IDN: DP8E203100159 IP: 10.10.1.50\n",
      "\tChannel\t| Status\t| V\t\t| I (A)\t\t| P (W)  \n",
      "\t      1\t| ON      \t| 5.4120\t| 0.0289\t| 0.1560\n",
      "\t      2\t| ON      \t| 1.9000\t| 0.2870\t| 0.5450\n",
      "\n",
      "IDN: DP8E203700164 IP: 10.10.1.51\n",
      "\tChannel\t| Status\t| V\t\t| I (A)\t\t| P (W)  \n",
      "\t      1\t| ON      \t| 5.4000\t| 0.0402\t| 0.2170\n",
      "\t      2\t| ON      \t| 3.4480\t| 1.3310\t| 4.5890\n",
      "\n",
      "IDN: DP8B212500667 IP: 10.10.1.52\n",
      "\tChannel\t| Status\t| V\t\t| I (A)\t\t| P (W)  \n",
      "\t      1\t| ON      \t| 4.9991\t| 0.0000\t| 0.0000\n",
      "\t      2\t| ON      \t| 3.4531\t| 0.0000\t| 0.0000\n",
      "\t      3\t| ON      \t| 2.4015\t| 0.3768\t| 0.9050\n",
      "\n",
      "IDN: DP8E214200286 IP: 10.10.1.53\n",
      "\tChannel\t| Status\t| V\t\t| I (A)\t\t| P (W)  \n",
      "\t      1\t| ON      \t| 0.4980\t| 0.0002\t| 0.0000\n",
      "\t      2\t| ON      \t| 3.6000\t| 0.1610\t| 0.5800\n",
      "\n"
     ]
    }
   ],
   "source": [
    "power_up_all(supply_handlers, verbose=True)"
   ]
  },
  {
   "cell_type": "code",
   "execution_count": 161,
   "metadata": {},
   "outputs": [
    {
     "data": {
      "text/plain": [
       "'0.498,0.0002,0.000'"
      ]
     },
     "execution_count": 161,
     "metadata": {},
     "output_type": "execute_result"
    }
   ],
   "source": [
    "supply_handlers[-1].ask(\"MEAS:ALL? CH1\")\n",
    "supply_handlers[-1].tell(\"APPLY CH1,0.5,0.01\")\n",
    "supply_handlers[-1].ask(\"MEAS:ALL? CH1\")"
   ]
  },
  {
   "cell_type": "code",
   "execution_count": 169,
   "metadata": {},
   "outputs": [
    {
     "name": "stdout",
     "output_type": "stream",
     "text": [
      "IDN: DP8E203100159 IP: 10.10.1.50\n",
      "CH1 0.3000\n",
      "CH2 1.500\n",
      "\n",
      "IDN: DP8E203700164 IP: 10.10.1.51\n",
      "CH1 0.3000\n",
      "CH2 4.000\n",
      "\n",
      "IDN: DP8B212500667 IP: 10.10.1.52\n",
      "CH1 0.285\n",
      "CH2 3.300\n",
      "CH3 3.000\n",
      "\n",
      "IDN: DP8E214200286 IP: 10.10.1.53\n",
      "CH1 1.1000\n",
      "CH2 2.000\n",
      "\n"
     ]
    }
   ],
   "source": [
    "for supply in supply_handlers:\n",
    "    print(supply.IDENTITY)\n",
    "    for ch in range(supply.n_ch):\n",
    "        ocp = supply.ask(f\"OUTP:OCP:val? CH{ch+1}\")\n",
    "        print(f\"CH{ch+1} {ocp}\")\n",
    "    print()"
   ]
  },
  {
   "cell_type": "code",
   "execution_count": 163,
   "metadata": {},
   "outputs": [
    {
     "name": "stdout",
     "output_type": "stream",
     "text": [
      "IDN: DP8E203100159 IP: 10.10.1.50\n",
      "\tChannel\t| Status\t| V\t\t| I (A)\t\t| P (W)  \n",
      "\t      1\t| ON      \t| 5.4110\t| 0.0025\t| 0.0140\n",
      "\t      2\t| ON      \t| 1.9010\t| 0.0000\t| 0.0000\n",
      "\n",
      "IDN: DP8E203700164 IP: 10.10.1.51\n",
      "\tChannel\t| Status\t| V\t\t| I (A)\t\t| P (W)  \n",
      "\t      1\t| ON      \t| 5.4000\t| 0.0012\t| 0.0060\n",
      "\t      2\t| ON      \t| 3.4480\t| 1.3690\t| 4.7200\n",
      "\n",
      "IDN: DP8B212500667 IP: 10.10.1.52\n",
      "\tChannel\t| Status\t| V\t\t| I (A)\t\t| P (W)  \n",
      "\t      1\t| ON      \t| 4.9994\t| 0.0000\t| 0.0000\n",
      "\t      2\t| ON      \t| 3.4531\t| 0.0000\t| 0.0000\n",
      "\t      3\t| ON      \t| 2.4015\t| 0.0000\t| 0.0000\n",
      "\n",
      "IDN: DP8E214200286 IP: 10.10.1.53\n",
      "\tChannel\t| Status\t| V\t\t| I (A)\t\t| P (W)  \n",
      "\t      1\t| ON      \t| 0.4980\t| 0.0002\t| 0.0000\n",
      "\t      2\t| ON      \t| 3.6000\t| 0.0000\t| 0.0000\n",
      "\n"
     ]
    }
   ],
   "source": [
    "report_status(supply_handlers)"
   ]
  },
  {
   "cell_type": "code",
   "execution_count": 10,
   "metadata": {},
   "outputs": [
    {
     "name": "stdout",
     "output_type": "stream",
     "text": [
      "RIGOL TECHNOLOGIES,DP821A,DP8E203100159,00.01.14\n",
      "2\n",
      "(17, <StatusCode.success: 0>)\n",
      "(17, <StatusCode.success: 0>)\n",
      "RIGOL TECHNOLOGIES,DP821A,DP8E203700164,00.01.14\n",
      "2\n",
      "(17, <StatusCode.success: 0>)\n",
      "(17, <StatusCode.success: 0>)\n",
      "RIGOL TECHNOLOGIES,DP832A,DP8B212500667,00.01.16\n",
      "3\n",
      "(17, <StatusCode.success: 0>)\n",
      "(17, <StatusCode.success: 0>)\n",
      "(17, <StatusCode.success: 0>)\n",
      "RIGOL TECHNOLOGIES,DP821A,DP8E214200286,00.01.16\n",
      "2\n",
      "(17, <StatusCode.success: 0>)\n",
      "(17, <StatusCode.success: 0>)\n"
     ]
    }
   ],
   "source": [
    "power_on_all_supplies(supply_handlers)"
   ]
  },
  {
   "cell_type": "code",
   "execution_count": null,
   "metadata": {},
   "outputs": [],
   "source": []
  }
 ],
 "metadata": {
  "kernelspec": {
   "display_name": "Python 3",
   "language": "python",
   "name": "python3"
  },
  "language_info": {
   "codemirror_mode": {
    "name": "ipython",
    "version": 3
   },
   "file_extension": ".py",
   "mimetype": "text/x-python",
   "name": "python",
   "nbconvert_exporter": "python",
   "pygments_lexer": "ipython3",
   "version": "3.7.6"
  }
 },
 "nbformat": 4,
 "nbformat_minor": 4
}
