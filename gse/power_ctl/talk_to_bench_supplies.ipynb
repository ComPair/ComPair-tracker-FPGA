{
 "cells": [
  {
   "cell_type": "code",
   "execution_count": 1,
   "metadata": {},
   "outputs": [],
   "source": [
    "%matplotlib inline"
   ]
  },
  {
   "cell_type": "code",
   "execution_count": 2,
   "metadata": {},
   "outputs": [],
   "source": [
    "import matplotlib.pyplot as plt\n",
    "import numpy as np \n",
    "import time\n",
    "import pyvisa as visa"
   ]
  },
  {
   "cell_type": "code",
   "execution_count": 3,
   "metadata": {},
   "outputs": [],
   "source": [
    "VISA_RM = visa.ResourceManager('@py')"
   ]
  },
  {
   "cell_type": "code",
   "execution_count": 29,
   "metadata": {},
   "outputs": [],
   "source": [
    "class RigolSupply():\n",
    "    def __init__(self, address, n_ch, visa_resource_manager=VISA_RM):\n",
    "        resource_str = f'TCPIP0::{address:s}::INSTR'\n",
    "        print(resource_str)\n",
    "        self.resource = VISA_RM.open_resource(resource_str, write_termination='\\n', read_termination='\\n')\n",
    "\n",
    "        self.write = self.resource.write\n",
    "        self.query = self.resource.query\n",
    "        \n",
    "        self.n_ch = n_ch\n",
    "        \n",
    "        self.voltages = np.zeros(n_ch)\n",
    "        self.currents = np.zeros(n_ch)\n",
    "        \n",
    "        self.ovp_lim = np.zeros(n_ch)\n",
    "        self.ocp_lim = np.zeros(n_ch)\n",
    "        \n",
    "        \n",
    "\n",
    "    @property\n",
    "    def IDN(self):\n",
    "        return self.query(\"*IDN?\")\n",
    "    \n",
    "    @property\n",
    "    def IP(self):\n",
    "        return self.query(\":SYSTem:COMMunicate:LAN:IPADdress?\")\n",
    "        \n",
    "    def ask(self, question):\n",
    "        response = self.query(question)\n",
    "        print(\"Question: {0:s} - Response: {1:s}\".format(question, str(response)))\n",
    "        return response\n",
    "    \n",
    "    def tell(self, statement):\n",
    "        return self.write(statemnet)\n",
    "    \n",
    "    def enable_output(self, ch):\n",
    "        return self.write(f\"OUTP:STAT CH{ch},ON\")\n",
    "    \n",
    "    def disable_output(self, ch):\n",
    "        return self.write(f\"OUTP:STAT CH{ch},OFF\")\n",
    "\n",
    "    def set_ocp(self, ocp):\n",
    "        for ch in range(n_ch):\n",
    "            self.tell(f\":OUTP:OCP:VAL CH{ch},{ocp[ch]}\")\n",
    "    \n",
    "    def get_ocp(self):\n",
    "         return [self.query(f\":OUTP:OCP:VAL? CH{ch}\") for ch in range(self.n_ch)]\n",
    "    "
   ]
  },
  {
   "cell_type": "code",
   "execution_count": 31,
   "metadata": {},
   "outputs": [
    {
     "name": "stdout",
     "output_type": "stream",
     "text": [
      "TCPIP0::10.10.1.50::INSTR\n",
      "RIGOL TECHNOLOGIES,DP821A,DP8E203100159,00.01.14 10.10.1.50\n"
     ]
    }
   ],
   "source": [
    "ps = RigolSupply('10.10.1.50', 2)\n",
    "print(ps.IDN, ps.IP)"
   ]
  },
  {
   "cell_type": "code",
   "execution_count": 33,
   "metadata": {},
   "outputs": [
    {
     "name": "stdout",
     "output_type": "stream",
     "text": [
      "TCPIP0::10.10.1.50::INSTR\n",
      "TCPIP0::10.10.1.51::INSTR\n",
      "TCPIP0::10.10.1.52::INSTR\n",
      "TCPIP0::10.10.1.53::INSTR\n"
     ]
    }
   ],
   "source": [
    "supply_IPs = [\"10.10.1.50\", \"10.10.1.51\", \"10.10.1.52\", \"10.10.1.53\"]\n",
    "supply_channels = [2, 2, 3, 2]\n",
    "fpga_ps = [0, 2]\n",
    "supplies = [RigolSupply(ip, n_ch) for ip,n_ch in zip(supply_IPs, supply_channels)]"
   ]
  },
  {
   "cell_type": "code",
   "execution_count": 35,
   "metadata": {},
   "outputs": [],
   "source": []
  },
  {
   "cell_type": "code",
   "execution_count": 36,
   "metadata": {},
   "outputs": [
    {
     "name": "stdout",
     "output_type": "stream",
     "text": [
      "RIGOL TECHNOLOGIES,DP821A,DP8E203100159,00.01.14\n",
      "2\n",
      "(17, <StatusCode.success: 0>)\n",
      "(18, <StatusCode.success: 0>)\n",
      "(17, <StatusCode.success: 0>)\n",
      "(18, <StatusCode.success: 0>)\n",
      "RIGOL TECHNOLOGIES,DP821A,DP8E203700164,00.01.14\n",
      "2\n",
      "(17, <StatusCode.success: 0>)\n",
      "(18, <StatusCode.success: 0>)\n",
      "(17, <StatusCode.success: 0>)\n",
      "(18, <StatusCode.success: 0>)\n",
      "RIGOL TECHNOLOGIES,DP832A,DP8B212500667,00.01.16\n",
      "3\n",
      "(17, <StatusCode.success: 0>)\n",
      "(18, <StatusCode.success: 0>)\n",
      "(17, <StatusCode.success: 0>)\n",
      "(18, <StatusCode.success: 0>)\n",
      "(17, <StatusCode.success: 0>)\n",
      "(18, <StatusCode.success: 0>)\n",
      "RIGOL TECHNOLOGIES,DP821A,DP8E214200286,00.01.16\n",
      "2\n",
      "(17, <StatusCode.success: 0>)\n",
      "(18, <StatusCode.success: 0>)\n",
      "(17, <StatusCode.success: 0>)\n",
      "(18, <StatusCode.success: 0>)\n"
     ]
    }
   ],
   "source": [
    "for supply in supplies:\n",
    "    print(supply.IDN)\n",
    "    print(supply.n_ch)\n",
    "    for ch in range(supply.n_ch):\n",
    "        print(supply.enable_output(ch+1))\n",
    "        time.sleep(2)\n",
    "        print(supply.disable_output(ch+1))"
   ]
  }
 ],
 "metadata": {
  "kernelspec": {
   "display_name": "Python 3",
   "language": "python",
   "name": "python3"
  },
  "language_info": {
   "codemirror_mode": {
    "name": "ipython",
    "version": 3
   },
   "file_extension": ".py",
   "mimetype": "text/x-python",
   "name": "python",
   "nbconvert_exporter": "python",
   "pygments_lexer": "ipython3",
   "version": "3.7.6"
  }
 },
 "nbformat": 4,
 "nbformat_minor": 4
}
