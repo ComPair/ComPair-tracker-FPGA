{
 "cells": [
  {
   "cell_type": "code",
   "execution_count": null,
   "metadata": {},
   "outputs": [],
   "source": [
    "%matplotlib inline"
   ]
  },
  {
   "cell_type": "code",
   "execution_count": null,
   "metadata": {},
   "outputs": [],
   "source": [
    "import matplotlib.pyplot as plt\n",
    "import numpy as np \n",
    "import time\n",
    "import pyvisa as visa"
   ]
  },
  {
   "cell_type": "code",
   "execution_count": null,
   "metadata": {},
   "outputs": [],
   "source": [
    "VISA_RM = visa.ResourceManager('@py')"
   ]
  },
  {
   "cell_type": "code",
   "execution_count": null,
   "metadata": {},
   "outputs": [],
   "source": [
    "class RigolSupply():\n",
    "    def __init__(self, address, n_ch, visa_resource_manager=VISA_RM):\n",
    "        resource_str = f'TCPIP0::{address:s}::INSTR'\n",
    "        print(resource_str)\n",
    "        self.resource = VISA_RM.open_resource(resource_str, write_termination='\\n', read_termination='\\n')\n",
    "\n",
    "        self.write = self.resource.write\n",
    "        self.query = self.resource.query\n",
    "        \n",
    "        self.n_ch = n_ch\n",
    "        \n",
    "        self.voltages = np.zeros(n_ch)\n",
    "        self.currents = np.zeros(n_ch)\n",
    "        \n",
    "        self.ovp_lim = np.zeros(n_ch)\n",
    "        self.ocp_lim = np.zeros(n_ch)\n",
    "        \n",
    "        \n",
    "\n",
    "    @property\n",
    "    def IDN(self):\n",
    "        return self.query(\"*IDN?\")\n",
    "    \n",
    "    @property\n",
    "    def IP(self):\n",
    "        return self.query(\":SYSTem:COMMunicate:LAN:IPADdress?\")\n",
    "        \n",
    "    def ask(self, question):\n",
    "        response = self.query(question)\n",
    "        print(\"Question: {0:s} - Response: {1:s}\".format(question, str(response)))\n",
    "        return response\n",
    "    \n",
    "    def tell(self, statement):\n",
    "        return self.write(statemnet)\n",
    "    \n",
    "    def enable_output(self, ch):\n",
    "        return self.write(f\"OUTP:STAT CH{ch},ON\")\n",
    "    \n",
    "    def disable_output(self, ch):\n",
    "        return self.write(f\"OUTP:STAT CH{ch},OFF\")\n",
    "\n",
    "    def set_ocp(self, ocp):\n",
    "        for ch in range(n_ch):\n",
    "            self.tell(f\":OUTP:OCP:VAL CH{ch},{ocp[ch]}\")\n",
    "    \n",
    "    def get_ocp(self):\n",
    "         return [self.query(f\":OUTP:OCP:VAL? CH{ch}\") for ch in range(self.n_ch)]\n",
    "    "
   ]
  },
  {
   "cell_type": "code",
   "execution_count": null,
   "metadata": {},
   "outputs": [],
   "source": [
    "def power_on_fpga(supply_handlers, fpga_pair):\n",
    "    supply_handlers[fpga_pair[0]].enable_output(fpga_pair[1])\n",
    "    \n",
    "def power_off_fpga(supply_handlers, fpga_pair):\n",
    "    supply_handlers[fpga_pair[0]].disable_output(fpga_pair[1])\n",
    "    \n",
    "def power_cycle_fpga(supply_handlers, fpga_pair, sleepytime=1):\n",
    "    power_off_fpga(supply_handlers, fpga_pair)\n",
    "    time.sleep(sleepttime)\n",
    "    power_on_fpga(supply_handlers, fpga_pair)\n",
    "    \n",
    "def power_cycle_all_supplies(supply_handlers):\n",
    "    for supply in supply_handlers:\n",
    "        print(supply.IDN)\n",
    "        print(supply.n_ch)\n",
    "        for ch in range(supply.n_ch):\n",
    "            print(supply.enable_output(ch+1))\n",
    "            time.sleep(1)\n",
    "            print(supply.disable_output(ch+1))\n",
    "    "
   ]
  },
  {
   "cell_type": "code",
   "execution_count": null,
   "metadata": {},
   "outputs": [],
   "source": [
    "supply_IPs = [\"10.10.1.50\", \n",
    "              \"10.10.1.51\", \n",
    "              \"10.10.1.52\", \n",
    "              \"10.10.1.53\"]\n",
    "\n",
    "supply_channels = [2, 2, 3, 2]\n",
    "fpga_pair = [1, 2]\n",
    "\n",
    "AFE_power_lines = [[0, 1], [0,2], \n",
    "                   [1, 0], #Second channel iss the FPGA.\n",
    "                   [2, 0], [2, 2],\n",
    "                   [3, 0], [3, 1]\n",
    "                  ]\n",
    "\n",
    "supply_handlers = [RigolSupply(ip, n_ch) for ip,n_ch in zip(supply_IPs, supply_channels)]"
   ]
  },
  {
   "cell_type": "code",
   "execution_count": null,
   "metadata": {},
   "outputs": [],
   "source": []
  },
  {
   "cell_type": "code",
   "execution_count": null,
   "metadata": {},
   "outputs": [],
   "source": [
    "power_on_fpga(supply_handlers, fpga_pair)"
   ]
  },
  {
   "cell_type": "code",
   "execution_count": null,
   "metadata": {},
   "outputs": [],
   "source": [
    "power_off_fpga(supply_handlers, fpga_pair)"
   ]
  },
  {
   "cell_type": "code",
   "execution_count": null,
   "metadata": {},
   "outputs": [],
   "source": []
  }
 ],
 "metadata": {
  "kernelspec": {
   "display_name": "Python 3",
   "language": "python",
   "name": "python3"
  },
  "language_info": {
   "codemirror_mode": {
    "name": "ipython",
    "version": 3
   },
   "file_extension": ".py",
   "mimetype": "text/x-python",
   "name": "python",
   "nbconvert_exporter": "python",
   "pygments_lexer": "ipython3",
   "version": "3.7.6"
  }
 },
 "nbformat": 4,
 "nbformat_minor": 4
}
